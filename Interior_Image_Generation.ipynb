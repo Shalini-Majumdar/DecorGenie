{
 "cells": [
  {
   "cell_type": "code",
   "execution_count": 2,
   "id": "297a08f9-2423-439e-8131-ba5b5dfd1e47",
   "metadata": {},
   "outputs": [],
   "source": [
    "import os\n",
    "import mysql.connector\n",
    "from langchain.prompts import SemanticSimilarityExampleSelector\n",
    "from langchain.prompts.prompt import PromptTemplate\n",
    "from langchain.prompts import FewShotPromptTemplate\n",
    "import google.generativeai as genai\n",
    "from langchain_huggingface import HuggingFaceEmbeddings\n",
    "from dotenv import load_dotenv\n",
    "from langchain_community.vectorstores import Chroma"
   ]
  },
  {
   "cell_type": "code",
   "execution_count": 2,
   "id": "02c6bda5-6a51-4444-98e7-ec704dda41dc",
   "metadata": {},
   "outputs": [],
   "source": [
    "load_dotenv()\n",
    "GEMINI_API_KEY = os.getenv(\"GEMINI_API_KEY\")\n",
    "genai.configure(api_key=GEMINI_API_KEY)\n",
    "\n",
    "model = genai.GenerativeModel(\"gemini-pro\")"
   ]
  },
  {
   "cell_type": "code",
   "execution_count": 18,
   "id": "ffde4f84-c2a8-4e5a-a784-15db1c2d7dc3",
   "metadata": {},
   "outputs": [],
   "source": [
    "def get_db_connection():\n",
    "    return mysql.connector.connect(\n",
    "        host=\"localhost\",\n",
    "        user=\"root\",\n",
    "        password=\"database_1109\",\n",
    "        database=\"home_interior_design\"\n",
    "    )"
   ]
  },
  {
   "cell_type": "code",
   "execution_count": 4,
   "id": "429fba92-7faa-4459-8fb9-a7d51a56dbd9",
   "metadata": {},
   "outputs": [],
   "source": [
    "def query_database(query):\n",
    "    try:\n",
    "        db_connection = get_db_connection()\n",
    "        cursor = db_connection.cursor()\n",
    "        cursor.execute(query)\n",
    "        result = cursor.fetchall()\n",
    "        cursor.close()\n",
    "        db_connection.close()\n",
    "        return result\n",
    "    except mysql.connector.Error as err:\n",
    "        print(f\"Error executing query: {err}\")\n",
    "        return []"
   ]
  },
  {
   "cell_type": "code",
   "execution_count": 5,
   "id": "937dd9c8-2f81-4983-9d66-ff793acb3569",
   "metadata": {},
   "outputs": [],
   "source": [
    "#store SQL queries paired with corresponding natural language questions\n",
    "queries_and_questions = [\n",
    "    (\"SELECT theme FROM rooms WHERE room_type = 'Living Room';\", \"What themes are available for living rooms?\"),\n",
    "    (\"SELECT furniture_name FROM furniture WHERE material = 'Wood' AND room_id IN (SELECT room_id FROM rooms WHERE room_type = 'Bedroom' AND theme = 'Rustic');\", \n",
    "     \"Suggest furniture for a rustic bedroom.\"),\n",
    "    (\"SELECT DISTINCT layout_style FROM layouts WHERE room_id IN (SELECT room_id FROM rooms WHERE room_type = 'Kitchen');\", \n",
    "     \"What layout styles are common for kitchens?\"),\n",
    "    (\"SELECT furniture_name FROM furniture WHERE material = 'Wood' LIMIT 5;\", \"Give me some wooden furniture options.\"),\n",
    "    (\"SELECT COUNT(*) FROM rooms WHERE theme = 'Modern';\", \"How many rooms have a modern theme?\")  \n",
    "]"
   ]
  },
  {
   "cell_type": "code",
   "execution_count": 6,
   "id": "509d58a4-aeb9-4f96-ad7a-00fa8926c492",
   "metadata": {},
   "outputs": [
    {
     "name": "stdout",
     "output_type": "stream",
     "text": [
      "Question: What themes are available for living rooms?\n",
      "Query: SELECT theme FROM rooms WHERE room_type = 'Living Room';\n",
      "Result: [('Minimalist',), ('Minimalist',), ('Industrial',), ('Rustic',), ('Rustic',), ('Modern',), ('Minimalist',), ('Modern',), ('Traditional',)]\n",
      "\n",
      "Question: Suggest furniture for a rustic bedroom.\n",
      "Query: SELECT furniture_name FROM furniture WHERE material = 'Wood' AND room_id IN (SELECT room_id FROM rooms WHERE room_type = 'Bedroom' AND theme = 'Rustic');\n",
      "Result: []\n",
      "\n",
      "Question: What layout styles are common for kitchens?\n",
      "Query: SELECT DISTINCT layout_style FROM layouts WHERE room_id IN (SELECT room_id FROM rooms WHERE room_type = 'Kitchen');\n",
      "Result: []\n",
      "\n",
      "Question: Give me some wooden furniture options.\n",
      "Query: SELECT furniture_name FROM furniture WHERE material = 'Wood' LIMIT 5;\n",
      "Result: []\n",
      "\n",
      "Question: How many rooms have a modern theme?\n",
      "Query: SELECT COUNT(*) FROM rooms WHERE theme = 'Modern';\n",
      "Result: [(11,)]\n",
      "\n"
     ]
    }
   ],
   "source": [
    "def run_queries():\n",
    "    for query, question in queries_and_questions:\n",
    "        result = query_database(query)\n",
    "        print(f\"Question: {question}\\nQuery: {query}\\nResult: {result}\\n\")\n",
    "run_queries()"
   ]
  },
  {
   "cell_type": "code",
   "execution_count": 5,
   "id": "abae2d12-d6bc-42ad-8a28-6d717ea543ab",
   "metadata": {},
   "outputs": [],
   "source": [
    "examples = [\n",
    "    {\"input\": \"What are the most common room themes?\", \n",
    "     \"output\": \"Modern, Minimalist, Bohemian, Industrial.\"},\n",
    "    {\"input\": \"Can I see examples of open-concept living room layouts?\", \n",
    "     \"output\": \"Yes, we have layouts with sectional sofas, island kitchens, and open dining areas.\"},\n",
    "    {\"input\": \"What are the recommended dimensions for a master bedroom?\", \n",
    "     \"output\": \"Typical sizes: 14x16 ft, 16x18 ft, 18x20 ft.\"},\n",
    "    {\"input\": \"Which rooms typically have the best natural lighting?\", \n",
    "     \"output\": \"South-facing living rooms and east-facing bedrooms get the most natural light.\"},\n",
    "    {\"input\": \"What’s the ideal furniture arrangement for a small apartment?\", \n",
    "     \"output\": \"Try multifunctional furniture like sofa beds, foldable tables, and wall-mounted shelves.\"},\n",
    "    {\"input\": \"What are some space-saving furniture options for small rooms?\", \n",
    "     \"output\": \"Murphy beds, nesting tables, and vertical storage shelves.\"},\n",
    "    {\"input\": \"Which materials are best for durable kitchen cabinets?\", \n",
    "     \"output\": \"Plywood, MDF, and solid wood with laminate finishes.\"},\n",
    "    {\"input\": \"Do you have any Scandinavian-style furniture suggestions?\", \n",
    "     \"output\": \"Yes, we have minimalist wooden tables, white storage units, and neutral-colored sofas.\"},\n",
    "    {\"input\": \"What’s a good sofa size for a 12x15 living room?\", \n",
    "     \"output\": \"A 72-inch or 84-inch sofa works well for this space.\"},\n",
    "    {\"input\": \"Can you recommend some wooden dining tables?\", \n",
    "     \"output\": \"Yes, we have oak, walnut, and reclaimed wood dining tables.\"},\n",
    "    {\"input\": \"What are the best lighting options for a workspace?\", \n",
    "     \"output\": \"Adjustable LED desk lamps, pendant lights, and task lighting setups.\"},\n",
    "    {\"input\": \"Which color schemes make a small room look bigger?\", \n",
    "     \"output\": \"Light neutral tones like white, beige, and soft grays create an illusion of space.\"},\n",
    "    {\"input\": \"How does warm lighting affect a bedroom’s ambiance?\", \n",
    "     \"output\": \"Warm lighting creates a cozy and relaxing environment, perfect for bedrooms.\"},\n",
    "    {\"input\": \"What are the trending wall colors for 2025?\", \n",
    "     \"output\": \"Beige, sage green, and deep navy blue are trending this year.\"},\n",
    "    {\"input\": \"Which lighting setups work best in a minimalist home?\", \n",
    "     \"output\": \"Recessed lights, pendant lamps, and floor lamps with warm LED bulbs.\"},\n",
    "    {\"input\": \"What are some smart storage solutions for a compact kitchen?\", \n",
    "     \"output\": \"Pull-out pantry shelves, hanging racks, and magnetic spice holders.\"},\n",
    "    {\"input\": \"How can I add storage to a small bathroom without making it feel cramped?\", \n",
    "     \"output\": \"Floating shelves, over-the-toilet storage, and wall-mounted cabinets.\"},\n",
    "    {\"input\": \"What’s the best way to organize a walk-in closet?\", \n",
    "     \"output\": \"Use modular shelving, drawer dividers, and labeled storage bins.\"},\n",
    "    {\"input\": \"Are there space-saving bed options for small bedrooms?\", \n",
    "     \"output\": \"Yes, Murphy beds, loft beds, and storage beds with drawers underneath.\"},\n",
    "    {\"input\": \"How can I maximize vertical storage in a home office?\", \n",
    "     \"output\": \"Wall-mounted shelves, pegboards, and stackable storage bins.\"}\n",
    "]"
   ]
  },
  {
   "cell_type": "code",
   "execution_count": 19,
   "id": "a626cd02-e3bf-4c7a-bd19-857f569266be",
   "metadata": {},
   "outputs": [],
   "source": [
    "def generate_examples(query, result):\n",
    "    if not result:\n",
    "        return {\n",
    "            \"input\": f\"What is the result of this query? {query}\",\n",
    "            \"output\": \"I am sorry, I cannot assist you with that\"\n",
    "        }\n",
    "    return {\n",
    "        \"input\": f\"What is the result of this query? {query}\",\n",
    "        \"output\": f\"The query returned: {result}.\"\n",
    "    }"
   ]
  },
  {
   "cell_type": "code",
   "execution_count": null,
   "id": "a40befe1-d056-4d90-a2e0-a1385a280769",
   "metadata": {},
   "outputs": [],
   "source": [
    "embeddings = HuggingFaceEmbeddings(model_name='sentence-transformers/all-MiniLM-L6-v2') # Or other embedding model\n",
    "to_vectorize = [question for query, question in queries_and_questions] # Vectorize the questions\n",
    "vectorstore = Chroma.from_texts(to_vectorize, embeddings) # Create the vector store\n",
    "\n",
    "example_selector = SemanticSimilarityExampleSelector(\n",
    "    vectorstore=vectorstore,\n",
    "    k=1  # Number of similar examples to retrieve\n",
    ")"
   ]
  },
  {
   "cell_type": "code",
   "execution_count": 4,
   "id": "c636caa2-bf29-4bf6-a731-51206090b689",
   "metadata": {},
   "outputs": [],
   "source": [
    "conversation_history = []\n",
    "def ask_gemini(question, examples=None, image_generation_requested=False, conversation_history=None):  # Added flag\n",
    "    prompt_parts = []\n",
    "\n",
    "    if examples:\n",
    "        prompt_parts.append(\"\\n\".join([f\"Example: {ex['input']}\\nResponse: {ex['output']}\" for ex in examples]))\n",
    "\n",
    "    if conversation_history:\n",
    "        prompt_parts.append(\"\\n\".join([f\"{turn['role']}: {turn['content']}\" for turn in conversation_history]))\n",
    "\n",
    "    prompt_parts.append(f\"User: {question}\")  # Current question\n",
    "\n",
    "    full_prompt = \"\\n\\n\".join(prompt_parts)  # Separate parts with newlines\n",
    "\n",
    "    if image_generation_requested: \n",
    "        response = model.generate_content([{\"role\": \"user\", \"parts\": [{\"text\": full_prompt}]}],image_generation_usecase=genai.ImageGenerationUsecase.ALTERNATIVES)\n",
    "        try:\n",
    "            image_url = response.candidates[0].content[0].image.url\n",
    "            return image_url, response.text # Return both image URL and text\n",
    "        except:\n",
    "            return None, response.text # Return None and text if no image is generated\n",
    "    else:\n",
    "        response = model.generate_content(full_prompt)\n",
    "        return None, response.text # Return None and text by default"
   ]
  },
  {
   "cell_type": "code",
   "execution_count": 11,
   "id": "670eb9b4-ebb7-4992-b86e-65314a57335a",
   "metadata": {},
   "outputs": [],
   "source": [
    "def generate_and_display_image(prompt, question):\n",
    "    image_url, _ = ask_gemini(prompt, image_generation_requested=True) # Modified\n",
    "    if image_url:\n",
    "        print(f\"Image for: {question}\\nImage URL: {image_url}\\n\")\n",
    "        return image_url # Return the URL\n",
    "    else:\n",
    "        print(f\"Could not generate image for: {question}\")\n",
    "        return None"
   ]
  },
  {
   "cell_type": "code",
   "execution_count": 17,
   "id": "a17b8e2a-20c2-469a-a4ca-79213e49a32a",
   "metadata": {},
   "outputs": [
    {
     "name": "stdout",
     "output_type": "stream",
     "text": [
      "Question: What themes are available for living rooms?\n",
      "SQL Query: SELECT theme FROM rooms WHERE room_type = 'Living Room';\n",
      "Result: [('Minimalist',), ('Minimalist',), ('Industrial',), ('Rustic',), ('Rustic',), ('Modern',), ('Minimalist',), ('Modern',), ('Traditional',)]\n",
      "AI Response: Response: Based on the available data, the most common themes for living rooms are: Minimalist, Industrial, Rustic, Modern, and Traditional.\n",
      "\n",
      "Question: Suggest furniture for a rustic bedroom.\n",
      "SQL Query: SELECT furniture_name FROM furniture WHERE material = 'Wood' AND room_id IN (SELECT room_id FROM rooms WHERE room_type = 'Bedroom' AND theme = 'Rustic');\n",
      "Result: []\n",
      "AI Response: Response: For a rustic bedroom, you might consider a reclaimed wood bed frame, a weathered leather headboard, and a distressed dresser. A cozy knitted throw and some vintage-style lamps could add to the rustic ambiance.\n",
      "\n",
      "Question: What layout styles are common for kitchens?\n",
      "SQL Query: SELECT DISTINCT layout_style FROM layouts WHERE room_id IN (SELECT room_id FROM rooms WHERE room_type = 'Kitchen');\n",
      "Result: []\n",
      "AI Response: assistant: Response: Common layout styles for kitchens include: U-shaped, L-shaped, galley, and island kitchens. Each layout offers unique advantages in terms of space utilization, functionality, and cooking efficiency.\n",
      "\n",
      "Question: Give me some wooden furniture options.\n",
      "SQL Query: SELECT furniture_name FROM furniture WHERE material = 'Wood' LIMIT 5;\n",
      "Result: []\n",
      "AI Response: Assistant: Response: In terms of wooden furniture options, you could consider a walnut dining table with upholstered chairs, a solid oak bookshelf, or a rustic coffee table made from reclaimed wood. These pieces can add warmth and natural charm to your living space.\n",
      "\n",
      "Question: How many rooms have a modern theme?\n",
      "SQL Query: SELECT COUNT(*) FROM rooms WHERE theme = 'Modern';\n",
      "Result: [(11,)]\n",
      "AI Response: Assistant: Response: Based on the available data, approximately 11 rooms have a modern theme.\n",
      "\n"
     ]
    }
   ],
   "source": [
    "for query, question in queries_and_questions:\n",
    "    result = query_database(query)\n",
    "    dynamic_example = generate_examples(query, result)\n",
    "    all_examples = examples + [dynamic_example]\n",
    "\n",
    "    image_generation_requested = \"image\" in question.lower() or \"picture\" in question.lower() or \"visual\" in question.lower() or \"sketch\" in question.lower() \n",
    "\n",
    "    conversation_history.append({\"role\": \"user\", \"content\": question})\n",
    "\n",
    "    image_url, ai_response = ask_gemini(question, examples=all_examples, image_generation_requested=image_generation_requested, conversation_history=conversation_history)  # Pass history\n",
    "    conversation_history.append({\"role\": \"assistant\", \"content\": ai_response})  # Add AI response\n",
    "    \n",
    "    print(f\"Question: {question}\\nSQL Query: {query}\\nResult: {result}\\nAI Response: {ai_response}\\n\")\n",
    "\n",
    "    if image_generation_requested:\n",
    "        image_prompt = f\"Generate an image related to: {question}. Consider the context of the SQL query: {query} and the database results: {result}. The AI's text response is: {ai_response}\"\n",
    "        generated_url = generate_and_display_image(image_prompt, question)\n",
    "        if generated_url:\n",
    "           # Do something with the generated url\n",
    "           pass"
   ]
  },
  {
   "cell_type": "code",
   "execution_count": null,
   "id": "da2d047f-02a9-4aee-ad73-1ed63fb73f26",
   "metadata": {},
   "outputs": [],
   "source": []
  }
 ],
 "metadata": {
  "kernelspec": {
   "display_name": "Python 3 (ipykernel)",
   "language": "python",
   "name": "python3"
  },
  "language_info": {
   "codemirror_mode": {
    "name": "ipython",
    "version": 3
   },
   "file_extension": ".py",
   "mimetype": "text/x-python",
   "name": "python",
   "nbconvert_exporter": "python",
   "pygments_lexer": "ipython3",
   "version": "3.11.7"
  }
 },
 "nbformat": 4,
 "nbformat_minor": 5
}
